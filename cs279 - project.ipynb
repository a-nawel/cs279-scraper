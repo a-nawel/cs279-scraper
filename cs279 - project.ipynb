{
 "cells": [
  {
   "cell_type": "markdown",
   "id": "65cdbcd1",
   "metadata": {},
   "source": [
    "# Scraping for vulnerable binaries"
   ]
  },
  {
   "cell_type": "code",
   "execution_count": 6,
   "id": "8bf28d1c",
   "metadata": {},
   "outputs": [],
   "source": [
    "from selenium import webdriver\n",
    "from selenium.webdriver.common.keys import Keys\n",
    "import pandas as pd\n",
    "\n",
    "from selenium import webdriver\n",
    "from selenium.webdriver.chrome.service import Service\n",
    "from selenium.webdriver.support.ui import Select\n",
    "\n",
    "from webdriver_manager.chrome import ChromeDriverManager\n",
    "\n",
    "from pyvirtualdisplay import Display\n"
   ]
  },
  {
   "cell_type": "code",
   "execution_count": 8,
   "id": "6131e04a",
   "metadata": {
    "scrolled": true
   },
   "outputs": [],
   "source": [
    "#display = Display(visible=0, size=pixel)\n",
    "display = Display(visible=1)\n",
    "display.start()\n",
    "\n",
    "options = webdriver.ChromeOptions()\n",
    "options.set_capability(\"goog:loggingPrefs\", {'performance': 'ALL'})\n",
    "    \n",
    "#driver = webdriver.Chrome(service=Service(ChromeDriverManager().install()), options=options)\n",
    "\n",
    "driver=webdriver.Chrome(service=Service(ChromeDriverManager().install()))\n",
    "\n",
    "driver.get('https://ubuntu.com/security/notices')\n",
    "\n",
    "# Get the info about the selected distro\n",
    "#//*[@id=\"release\"]/option[6]\n",
    "\n",
    "\n",
    "\n",
    "\n",
    "release_drop = Select(driver.find_element_by_id('release'))\n",
    "\n",
    "release_drop.select_by_visible_text(\"Ubuntu 22.04 LTS\")"
   ]
  },
  {
   "cell_type": "code",
   "execution_count": null,
   "id": "ba43cf6e",
   "metadata": {},
   "outputs": [],
   "source": []
  }
 ],
 "metadata": {
  "kernelspec": {
   "display_name": "Python 3 (ipykernel)",
   "language": "python",
   "name": "python3"
  },
  "language_info": {
   "codemirror_mode": {
    "name": "ipython",
    "version": 3
   },
   "file_extension": ".py",
   "mimetype": "text/x-python",
   "name": "python",
   "nbconvert_exporter": "python",
   "pygments_lexer": "ipython3",
   "version": "3.9.2"
  }
 },
 "nbformat": 4,
 "nbformat_minor": 5
}
