{
 "cells": [
  {
   "cell_type": "markdown",
   "id": "65cdbcd1",
   "metadata": {},
   "source": [
    "# Scraping for vulnerable binaries"
   ]
  },
  {
   "cell_type": "code",
   "execution_count": 1,
   "id": "8bf28d1c",
   "metadata": {},
   "outputs": [],
   "source": [
    "from selenium import webdriver\n",
    "from selenium.webdriver.common.keys import Keys\n",
    "import pandas as pd\n",
    "\n",
    "from selenium import webdriver\n",
    "from selenium.webdriver.chrome.service import Service\n",
    "from selenium.webdriver.support.ui import Select\n",
    "\n",
    "from webdriver_manager.chrome import ChromeDriverManager\n",
    "\n",
    "from pyvirtualdisplay import Display\n"
   ]
  },
  {
   "cell_type": "code",
   "execution_count": 5,
   "id": "6131e04a",
   "metadata": {
    "scrolled": true
   },
   "outputs": [
    {
     "name": "stdout",
     "output_type": "stream",
     "text": [
      "Page title is: \n",
      "Security notices | Ubuntu\n",
      "Page title is: \n",
      "Security notices | Ubuntu\n"
     ]
    }
   ],
   "source": [
    "#display = Display(visible=0, size=pixel)\n",
    "display = Display(visible=1)\n",
    "display.start()\n",
    "\n",
    "options = webdriver.ChromeOptions()\n",
    "options.set_capability(\"goog:loggingPrefs\", {'performance': 'ALL'})\n",
    "    \n",
    "#driver = webdriver.Chrome(service=Service(ChromeDriverManager().install()), options=options)\n",
    "\n",
    "driver=webdriver.Chrome(service=Service(ChromeDriverManager().install()))\n",
    "\n",
    "driver.get('https://ubuntu.com/security/notices')\n",
    "\n",
    "print(\"Page title is: \")\n",
    "print(driver.title)\n",
    "\n",
    "# Get the info about the selected distro\n",
    "#//*[@id=\"release\"]/option[6]\n",
    "\n",
    "# Selecting the distribution from the dropdown menu\n",
    "distro = \"Ubuntu 22.04 LTS\"\n",
    "release_drop = Select(driver.find_element_by_id('release'))\n",
    "release_drop.select_by_visible_text(distro)\n",
    "\n",
    "# Retreiving and clicking the 'Search button'\n",
    "search_button = driver.find_element_by_xpath('//*[@id=\"main-content\"]/section[2]/form/div/div[2]/div/div[2]/button')\n",
    "driver.execute_script(\"arguments[0].click();\", search_button);\n",
    "\n",
    "print(\"Page title is: \")\n",
    "print(driver.title)\n",
    "\n",
    "\n",
    "# Closing the driver\n",
    "#driver.quit()\n"
   ]
  },
  {
   "cell_type": "code",
   "execution_count": null,
   "id": "ba43cf6e",
   "metadata": {},
   "outputs": [],
   "source": []
  }
 ],
 "metadata": {
  "kernelspec": {
   "display_name": "Python 3 (ipykernel)",
   "language": "python",
   "name": "python3"
  },
  "language_info": {
   "codemirror_mode": {
    "name": "ipython",
    "version": 3
   },
   "file_extension": ".py",
   "mimetype": "text/x-python",
   "name": "python",
   "nbconvert_exporter": "python",
   "pygments_lexer": "ipython3",
   "version": "3.9.2"
  }
 },
 "nbformat": 4,
 "nbformat_minor": 5
}
