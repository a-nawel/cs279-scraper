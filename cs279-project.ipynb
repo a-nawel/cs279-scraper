{
 "cells": [
  {
   "cell_type": "markdown",
   "id": "65cdbcd1",
   "metadata": {},
   "source": [
    "# Scraping for vulnerable binaries"
   ]
  },
  {
   "cell_type": "markdown",
   "id": "3605f49b",
   "metadata": {},
   "source": [
    "### Imports"
   ]
  },
  {
   "cell_type": "code",
   "execution_count": 1,
   "id": "8bf28d1c",
   "metadata": {},
   "outputs": [],
   "source": [
    "from selenium import webdriver\n",
    "from selenium.webdriver.common.keys import Keys\n",
    "import pandas as pd\n",
    "import time\n",
    "\n",
    "from selenium import webdriver\n",
    "from selenium.webdriver.chrome.service import Service\n",
    "from selenium.webdriver.support.ui import Select\n",
    "from selenium.webdriver.common.by import By\n",
    "\n",
    "from webdriver_manager.chrome import ChromeDriverManager\n",
    "from selenium.webdriver.support.ui import WebDriverWait\n",
    "from selenium.webdriver.support import expected_conditions as EC\n",
    "\n",
    "from selenium.webdriver.common.action_chains import ActionChains\n",
    "from selenium.common.exceptions import ElementClickInterceptedException, NoSuchElementException\n",
    "\n",
    "from pyvirtualdisplay import Display\n"
   ]
  },
  {
   "cell_type": "markdown",
   "id": "ef7e7827",
   "metadata": {},
   "source": [
    "### Defining some functions"
   ]
  },
  {
   "cell_type": "code",
   "execution_count": 2,
   "id": "1b2bbd0b",
   "metadata": {},
   "outputs": [],
   "source": [
    "def extract_pkgs_of_one_vulnerability():\n",
    "# Locate \"Ubuntu 22.04\" and retreive the links of the packages\n",
    "    try:\n",
    "        ul_elem = driver.find_element_by_xpath(\"//h5[contains(text(), 'Ubuntu 22.04')]/following-sibling::ul\")\n",
    "    except NoSuchElementException:\n",
    "        return\n",
    "    \n",
    "    pkg_list_elem = ul_elem.find_elements(By.XPATH, '*')\n",
    "    num_pkg = len(pkg_list_elem)\n",
    "    print(\"Number of packages to check: \", num_pkg)\n",
    "\n",
    "    for i in range(num_pkg):\n",
    "        # relocate the elements\n",
    "        vuln_pkg = {}\n",
    "        li_item = pkg_list_elem[i]\n",
    "        a_tag_item = li_item.find_elements(By.XPATH, '*')[0]\n",
    "        #a_tag_item = li_item.find_elements(By.XPATH, '*[1]')\n",
    "        #print(a_tag_item)\n",
    "        #print(a_tag_item.text)\n",
    "        vuln_pkg['name'] = a_tag_item.text\n",
    "        try:\n",
    "            a_tag_item.click()\n",
    "        except ElementClickInterceptedException:\n",
    "            # just try again\n",
    "            loc = a_tag_item.location_once_scrolled_into_view\n",
    "            a_tag_item.click()\n",
    "\n",
    "        # Now on the Launchpad page\n",
    "        # Locate the Jammy jellyfish and get the parent element\n",
    "        try:\n",
    "            jammy_location = driver.find_element_by_xpath(\"//a[contains(text(), 'The Jammy Jellyfish')]\")\n",
    "            jammy_parent_tr = jammy_location.find_element(By.XPATH, '..').find_element(By.XPATH, '..')\n",
    "\n",
    "            first_secure_tr = jammy_parent_tr.find_element(By.XPATH, \"following-sibling::*[1]\")\n",
    "            try:\n",
    "                secure_td = first_secure_tr.find_element(By.XPATH, \"*\").find_element(By.XPATH, \"//td[contains(text(), 'security')]\")\n",
    "                # Secure binary info if needed.\n",
    "                vuln_tr = jammy_parent_tr.find_element(By.XPATH, \"following-sibling::*[3]\")\n",
    "            except NoSuchElementException:\n",
    "                print(\"Secure fix to \", vuln_pkg['name'], \"not found!\")\n",
    "                driver.back()\n",
    "                time.sleep(1)\n",
    "\n",
    "                ul_elem = driver.find_element_by_xpath(\"//h5[contains(text(), 'Ubuntu 22.04')]/following-sibling::ul\") \n",
    "                pkg_list_elem = ul_elem.find_elements(By.XPATH, '*')\n",
    "                continue\n",
    "\n",
    "            try:\n",
    "                vuln_td = vuln_tr.find_element(By.XPATH, \"*\").find_element(By.XPATH, \"//td[contains(text(), 'release')]\")\n",
    "                vuln_version_td = vuln_tr.find_element(By.XPATH, \"*[1]\").find_element(By.XPATH, \"*[2]\")\n",
    "                vuln_pkg['version'] = vuln_version_td.text\n",
    "                vuln_pkgs.append(vuln_pkg)\n",
    "            except NoSuchElementException:\n",
    "                print(\"No package version in the release version found! \", vuln_pkg['name'])\n",
    "            #print(version)\n",
    "        except NoSuchElementException:\n",
    "            print(\"No jammy jellyfish found! \", vuln_pkg['name'])\n",
    "\n",
    "        driver.back()\n",
    "        time.sleep(1)\n",
    "\n",
    "        ul_elem = driver.find_element_by_xpath(\"//h5[contains(text(), 'Ubuntu 22.04')]/following-sibling::ul\") \n",
    "        pkg_list_elem = ul_elem.find_elements(By.XPATH, '*')\n"
   ]
  },
  {
   "cell_type": "code",
   "execution_count": 3,
   "id": "6927d6a9",
   "metadata": {},
   "outputs": [],
   "source": [
    "def scrape_one_result_page(first_item, last_item):\n",
    "    for i in range(1, last_item - first_item + 2): \n",
    "        one_item = driver.find_elements_by_xpath('//*[@id=\"main-content\"]/section[3]/div[3]/div/article[' + str(i) + ']/h3/a')\n",
    "        #print(one_item[0].text)\n",
    "        \n",
    "        link = driver.find_element(by=By.LINK_TEXT, value=one_item[0].text)\n",
    "        loc = link.location_once_scrolled_into_view\n",
    "\n",
    "        try: \n",
    "            link.click()\n",
    "        except ElementClickInterceptedException:\n",
    "            # just try again (works most of the time but not always!)\n",
    "            link.click()\n",
    "            \n",
    "        print(\"Page title is: \")\n",
    "        print(driver.title)\n",
    "\n",
    "        extract_pkgs_of_one_vulnerability()\n",
    "\n",
    "        driver.back()\n",
    "        time.sleep(1)"
   ]
  },
  {
   "cell_type": "markdown",
   "id": "310f376b",
   "metadata": {},
   "source": [
    "### Loading the main page, and selecting the distro"
   ]
  },
  {
   "cell_type": "code",
   "execution_count": 4,
   "id": "6131e04a",
   "metadata": {
    "scrolled": true
   },
   "outputs": [
    {
     "name": "stdout",
     "output_type": "stream",
     "text": [
      "Page title is: \n",
      "Security notices | Ubuntu\n",
      "Page title is: \n",
      "Security notices | Ubuntu\n"
     ]
    }
   ],
   "source": [
    "#display = Display(visible=0, size=pixel)\n",
    "display = Display(visible=1)\n",
    "display.start()\n",
    "\n",
    "options = webdriver.ChromeOptions()\n",
    "options.set_capability(\"goog:loggingPrefs\", {'performance': 'ALL'})\n",
    "\n",
    "driver=webdriver.Chrome(service=Service(ChromeDriverManager().install()))\n",
    "\n",
    "driver.get('https://ubuntu.com/security/notices')\n",
    "\n",
    "# Wait for the page to load, then click the \"accept all cookies\" button\n",
    "\n",
    "WebDriverWait(driver, 10).until(EC.element_to_be_clickable((By.ID,'cookie-policy-button-accept'))).click()\n",
    "\n",
    "\n",
    "print(\"Page title is: \")\n",
    "print(driver.title)\n",
    "\n",
    "# Selecting the distribution from the dropdown menu\n",
    "distro = \"Ubuntu 22.04 LTS\"\n",
    "release_drop = Select(driver.find_element(By.ID, 'release'))\n",
    "release_drop.select_by_visible_text(distro)\n",
    "\n",
    "# Retreiving and clicking the 'Search button'\n",
    "search_button = driver.find_element(By.XPATH, '//*[@id=\"main-content\"]/section[2]/form/div/div[2]/div/div[2]/button')\n",
    "driver.execute_script(\"arguments[0].click();\", search_button)\n",
    "\n",
    "print(\"Page title is: \")\n",
    "print(driver.title)\n"
   ]
  },
  {
   "cell_type": "markdown",
   "id": "521734a4",
   "metadata": {},
   "source": [
    "### Initializing some variables from the first results page"
   ]
  },
  {
   "cell_type": "code",
   "execution_count": 5,
   "id": "ba43cf6e",
   "metadata": {
    "scrolled": true
   },
   "outputs": [
    {
     "name": "stdout",
     "output_type": "stream",
     "text": [
      "Page results: \n",
      "1 - 10 of 707 results\n",
      "Number of total items : 707\n",
      "Number of items one the current page : 10\n"
     ]
    }
   ],
   "source": [
    "# Getting the number of items of the current page\n",
    "results_count = driver.find_elements(By.XPATH, '//*[@id=\"main-content\"]/section[3]/div[1]/div[1]/h2')\n",
    "\n",
    "print(\"Page results: \")\n",
    "print(results_count[0].text)\n",
    "\n",
    "page_num = 1 \n",
    "\n",
    "results_list = results_count[0].text.split()\n",
    "first_item_on_page = int(results_list[0]) \n",
    "last_item_on_page = int(results_list[2])\n",
    "total_item_count = int(results_list[-2])\n",
    "print(\"Number of total items :\", total_item_count)\n",
    "print(\"Number of items one the current page :\", last_item_on_page)\n"
   ]
  },
  {
   "cell_type": "code",
   "execution_count": 6,
   "id": "134ba67b",
   "metadata": {},
   "outputs": [],
   "source": [
    "vuln_pkgs = []"
   ]
  },
  {
   "cell_type": "markdown",
   "id": "c4d1101b",
   "metadata": {},
   "source": [
    "### Main flow"
   ]
  },
  {
   "cell_type": "code",
   "execution_count": null,
   "id": "21fd3652",
   "metadata": {
    "scrolled": true
   },
   "outputs": [
    {
     "name": "stdout",
     "output_type": "stream",
     "text": [
      "Page title is: \n",
      "USN-5977-1: Linux kernel (OEM) vulnerabilities | Ubuntu security notices | Ubuntu\n",
      "Number of packages to check:  2\n",
      "No package version in the release version found!  linux-image-6.0.0-1013-oem\n",
      "No package version in the release version found!  linux-image-oem-22.04b\n",
      "Page title is: \n",
      "USN-5976-1: Linux kernel (OEM) vulnerabilities | Ubuntu security notices | Ubuntu\n",
      "Number of packages to check:  3\n",
      "Page title is: \n",
      "LSN-0093-1: Kernel Live Patch Security Notice | Ubuntu security notices | Ubuntu\n",
      "Page title is: \n",
      "USN-5972-1: Thunderbird vulnerabilities | Ubuntu security notices | Ubuntu\n",
      "Number of packages to check:  1\n",
      "Page title is: \n",
      "USN-5966-2: amanda regression | Ubuntu security notices | Ubuntu\n",
      "Number of packages to check:  1\n",
      "Page title is: \n",
      "USN-5966-1: amanda vulnerabilities | Ubuntu security notices | Ubuntu\n",
      "Number of packages to check:  1\n",
      "Page title is: \n",
      "USN-5968-1: GitPython vulnerability | Ubuntu security notices | Ubuntu\n",
      "Number of packages to check:  1\n",
      "No package version in the release version found!  python3-git\n",
      "Page title is: \n",
      "USN-5904-2: SoX regression | Ubuntu security notices | Ubuntu\n",
      "Number of packages to check:  2\n",
      "Page title is: \n",
      "USN-5964-1: curl vulnerabilities | Ubuntu security notices | Ubuntu\n",
      "Number of packages to check:  4\n",
      "Page title is: \n",
      "USN-5963-1: Vim vulnerabilities | Ubuntu security notices | Ubuntu\n",
      "Number of packages to check:  6\n",
      "First item on current page : 371\n",
      "Last item on current page : 380\n",
      "Page title is: \n",
      "USN-5962-1: Linux kernel (Intel IoTG) vulnerabilities | Ubuntu security notices | Ubuntu\n",
      "Number of packages to check:  2\n",
      "Page title is: \n",
      "USN-5960-1: Python vulnerability | Ubuntu security notices | Ubuntu\n",
      "Number of packages to check:  1\n",
      "Page title is: \n",
      "USN-5961-1: abcm2ps vulnerabilities | Ubuntu security notices | Ubuntu\n",
      "Number of packages to check:  1\n",
      "No package version in the release version found!  abcm2ps\n",
      "Page title is: \n",
      "USN-5958-1: FFmpeg vulnerabilities | Ubuntu security notices | Ubuntu\n",
      "Number of packages to check:  15\n"
     ]
    }
   ],
   "source": [
    "# starting over from given page page_num\n",
    "# Important: If running from the beginning (from page 1) comment until #----------------\n",
    "page_num = 37\n",
    "\n",
    "button = driver.find_element(By.LINK_TEXT, str(page_num))\n",
    "loc = button.location_once_scrolled_into_view\n",
    "\n",
    "try: \n",
    "    button.click()\n",
    "except ElementClickInterceptedException:\n",
    "    # just try again\n",
    "    button.click()\n",
    "\n",
    "time.sleep(1)\n",
    "\n",
    "results_count = driver.find_elements(By.XPATH, '//*[@id=\"main-content\"]/section[3]/div[1]/div[1]/h2')\n",
    "\n",
    "results_list = results_count[0].text.split()\n",
    "first_item_on_page = int(results_list[0]) \n",
    "last_item_on_page = int(results_list[2])\n",
    "\n",
    "#----------------\n",
    "\n",
    "while True:\n",
    "    scrape_one_result_page(first_item_on_page, last_item_on_page)\n",
    "    if last_item_on_page == total_item_count:\n",
    "        break\n",
    "        \n",
    "    # locate the next page button\n",
    "    page_num += 1\n",
    "    button = driver.find_element(By.LINK_TEXT, str(page_num))\n",
    "    loc = button.location_once_scrolled_into_view\n",
    "    \n",
    "    try: \n",
    "        button.click()\n",
    "    except ElementClickInterceptedException:\n",
    "        # just try again\n",
    "        button.click()\n",
    "    \n",
    "    time.sleep(1)\n",
    "    \n",
    "    results_count = driver.find_elements(By.XPATH, '//*[@id=\"main-content\"]/section[3]/div[1]/div[1]/h2')\n",
    "\n",
    "    results_list = results_count[0].text.split()\n",
    "    first_item_on_page = int(results_list[0]) \n",
    "    last_item_on_page = int(results_list[2])\n",
    "    \n",
    "    print(\"First item on current page :\", first_item_on_page)\n",
    "    print(\"Last item on current page :\", last_item_on_page)\n",
    "    "
   ]
  },
  {
   "cell_type": "code",
   "execution_count": null,
   "id": "803c0f81",
   "metadata": {},
   "outputs": [],
   "source": [
    "# Closing the driver (Important! that is what clogged my RAM after a few days of debugging)\n",
    "driver.quit()"
   ]
  },
  {
   "cell_type": "code",
   "execution_count": null,
   "id": "5d1539f2",
   "metadata": {},
   "outputs": [],
   "source": [
    "#print(vuln_pkgs)\n",
    "print(len(vuln_pkgs))"
   ]
  },
  {
   "cell_type": "code",
   "execution_count": null,
   "id": "1b92afff",
   "metadata": {},
   "outputs": [],
   "source": [
    "# Writing into a json file\n",
    "\n",
    "import json\n",
    "\n",
    "with open('vul_pkgs_598.json', 'w') as f:\n",
    "    json.dump(vuln_pkgs, f)"
   ]
  },
  {
   "cell_type": "code",
   "execution_count": null,
   "id": "45a7dea2",
   "metadata": {},
   "outputs": [],
   "source": []
  }
 ],
 "metadata": {
  "kernelspec": {
   "display_name": "Python 3 (ipykernel)",
   "language": "python",
   "name": "python3"
  },
  "language_info": {
   "codemirror_mode": {
    "name": "ipython",
    "version": 3
   },
   "file_extension": ".py",
   "mimetype": "text/x-python",
   "name": "python",
   "nbconvert_exporter": "python",
   "pygments_lexer": "ipython3",
   "version": "3.9.2"
  }
 },
 "nbformat": 4,
 "nbformat_minor": 5
}
